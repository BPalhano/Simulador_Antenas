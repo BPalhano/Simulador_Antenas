{
 "cells": [
  {
   "cell_type": "markdown",
   "id": "e2d3858e",
   "metadata": {},
   "source": [
    "# Foundations of User-Centric Cell-Free Massive MIMO.\n",
    "\n",
    "In this notebook I will organize and filter my and Emil Björnson's code about SINR statics in a cell-free model of communication for 5G networks.\n"
   ]
  },
  {
   "cell_type": "code",
   "execution_count": 17,
   "id": "067190e1",
   "metadata": {},
   "outputs": [],
   "source": [
    "# all my libs to this code:\n",
    "import numpy as np\n",
    "%matplotlib inline\n",
    "from matplotlib import pyplot as plt\n",
    "from numpy import matlib"
   ]
  },
  {
   "cell_type": "code",
   "execution_count": 12,
   "id": "411f4921",
   "metadata": {},
   "outputs": [],
   "source": [
    "# Some constants for Monte-Carlo simulation:\n",
    "\n",
    "L = 400 # Lenght of square (the universe of our simulation)\n",
    "n_antennas = 64 # Total number of APs in simulation.\n",
    "c = 299792458   # Light Speed\n",
    "freq = 5000000000   # 5 * 10^{9}. Hz\n",
    "loop = 1000 # number of realization of simulation\n",
    "nUe = 8     # Number of users in square\n",
    "APperdim = np.sqrt(n_antennas) # the number of antennas are normalized distributed in lines.\n",
    "\n",
    "# Generating the space of AP and UE for every repetition on simulation.\n",
    "APindex = np.linspace(L/APperdim, L, int(APperdim)) - (L/APperdim) / 2\n",
    "APcellfree = matlib.repmat(APindex, int(APperdim), 1) + 1j * (matlib.repmat(APindex, int(APperdim), 1)).T\n",
    "UEloc = (np.random.rand(loop, nUe) + 1j * np.random.rand(loop, nUe)) * L\n",
    "\n",
    "#   Main containers:\n",
    "SINR_cellfree = np.array([])\n",
    "SNR_total = np.array([])"
   ]
  },
  {
   "cell_type": "markdown",
   "id": "877b5802",
   "metadata": {},
   "source": [
    "The next cell contains all functions that I made or get with [Emil's Code](https://github.com/BPalhano/cell-free-book/blob/main/code/section1_figure11.m), I will optimizate some functions."
   ]
  },
  {
   "cell_type": "code",
   "execution_count": 34,
   "id": "876b755d",
   "metadata": {},
   "outputs": [],
   "source": [
    "def pow2db(x, size):\n",
    "\n",
    "    db = x.copy()\n",
    "    for i in range(size):\n",
    "        db[i] = 10 * np.log10(db[i] / 10)\n",
    "\n",
    "    return db\n",
    "\n",
    "def SNR(dist):\n",
    "    Sig = 10 + 96 - 30.5 - 37.7 * np.log10(np.sqrt(np.square(dist) + 100))\n",
    "\n",
    "    return Sig\n",
    "\n",
    "def db2pot(x):\n",
    "    pot = np.array([])\n",
    "    for i in range(len(x)):\n",
    "        pot = np.hstack((pot, 10**(x[i] / 10)))\n",
    "\n",
    "    return pot\n",
    "\n",
    "# The most important function here:\n",
    "def computeSINRs_MMSE(channel):\n",
    "    \n",
    "    vector = channel.copy()\n",
    "    r = channel.shape[0]\n",
    "    c = channel.shape[1]\n",
    "\n",
    "    SINRs = np.array([])\n",
    "\n",
    "    vectimesT = vector @ vector.T\n",
    "    vector = vector.T\n",
    "\n",
    "    for k in range(c):\n",
    "\n",
    "        desiredChannel = vector[k]\n",
    "        desiredtimesT = desiredChannel @ desiredChannel.T\n",
    "        solved = np.linalg.lstsq((vectimesT - desiredtimesT + \n",
    "                                  np.eye(r, dtype=float)), desiredChannel , rcond=-1)[0]\n",
    "        temp = desiredChannel @ solved\n",
    "        SINRs = np.hstack((SINRs, temp.reshape(-1)))\n",
    "\n",
    "\n",
    "    return SINRs\n",
    "\n",
    "def SINR_estimator(channel):\n",
    "    \n",
    "    noise_pwr = 1\n",
    "    transmited_pwr = np.linalg.norm(channel) ** 2\n",
    "    cdl = channel.copy()\n",
    "    r = channel.shape[0]\n",
    "    c = channel.shape[1]\n",
    "    SINR = np.array([])\n",
    "    \n",
    "    cdl = np.transpose(cdl @ cdl.T)\n",
    "    for k in range(c):\n",
    "        \n",
    "        channel_actual = cdl[k]\n",
    "        channel_actual_2 = channel_actual @ channel_actual.T\n",
    "        v_k = transmited_pwr*channel_actual_2 + (noise_pwr*noise_pwr*np.eye(r, dtype=float))\n",
    "        v_k_h = np.linalg.pinv(v_k) @ channel_actual\n",
    "        v_k_h_H = np.transpose(v_k_h.conj)\n",
    "        \n",
    "        actual_solve = (np.linalg.norm(v_k_h_H @ channel_actual) ** 2 ) * transmited_pwr\n",
    "        actual_solve = actual_solve * np.linalg.pinv(v_k_h_H @ v_k @ v_k_h)\n",
    "        SINRs = np.hstack((SINRs, actual_solve.reshape(-1)))\n",
    "\n",
    "    return SINRs\n",
    "        "
   ]
  },
  {
   "cell_type": "markdown",
   "id": "a1b9c120",
   "metadata": {},
   "source": [
    "The main loop:"
   ]
  },
  {
   "cell_type": "code",
   "execution_count": 35,
   "id": "49472ad0",
   "metadata": {},
   "outputs": [
    {
     "ename": "ValueError",
     "evalue": "matmul: Input operand 0 does not have enough dimensions (has 0, gufunc core with signature (n?,k),(k,m?)->(n?,m?) requires 1)",
     "output_type": "error",
     "traceback": [
      "\u001b[0;31m---------------------------------------------------------------------------\u001b[0m",
      "\u001b[0;31mValueError\u001b[0m                                Traceback (most recent call last)",
      "\u001b[0;32m/tmp/ipykernel_3168/829072230.py\u001b[0m in \u001b[0;36m<module>\u001b[0;34m\u001b[0m\n\u001b[1;32m     15\u001b[0m \u001b[0;34m\u001b[0m\u001b[0m\n\u001b[1;32m     16\u001b[0m     \u001b[0mchannelCellfree\u001b[0m \u001b[0;34m=\u001b[0m \u001b[0mchannelCellfree\u001b[0m\u001b[0;34m.\u001b[0m\u001b[0mreshape\u001b[0m\u001b[0;34m(\u001b[0m\u001b[0mn_antennas\u001b[0m\u001b[0;34m,\u001b[0m \u001b[0mnUe\u001b[0m\u001b[0;34m)\u001b[0m\u001b[0;34m\u001b[0m\u001b[0;34m\u001b[0m\u001b[0m\n\u001b[0;32m---> 17\u001b[0;31m     \u001b[0mSINR_cellfree\u001b[0m \u001b[0;34m=\u001b[0m \u001b[0mnp\u001b[0m\u001b[0;34m.\u001b[0m\u001b[0mhstack\u001b[0m\u001b[0;34m(\u001b[0m\u001b[0;34m(\u001b[0m\u001b[0mSINR_cellfree\u001b[0m\u001b[0;34m,\u001b[0m\u001b[0mSINR_estimator\u001b[0m\u001b[0;34m(\u001b[0m\u001b[0mchannelCellfree\u001b[0m\u001b[0;34m)\u001b[0m\u001b[0;34m)\u001b[0m\u001b[0;34m)\u001b[0m\u001b[0;34m\u001b[0m\u001b[0;34m\u001b[0m\u001b[0m\n\u001b[0m",
      "\u001b[0;32m/tmp/ipykernel_3168/913947105.py\u001b[0m in \u001b[0;36mSINR_estimator\u001b[0;34m(channel)\u001b[0m\n\u001b[1;32m     61\u001b[0m         \u001b[0mv_k_h_H\u001b[0m \u001b[0;34m=\u001b[0m \u001b[0mnp\u001b[0m\u001b[0;34m.\u001b[0m\u001b[0mtranspose\u001b[0m\u001b[0;34m(\u001b[0m\u001b[0mv_k_h\u001b[0m\u001b[0;34m.\u001b[0m\u001b[0mconj\u001b[0m\u001b[0;34m)\u001b[0m\u001b[0;34m\u001b[0m\u001b[0;34m\u001b[0m\u001b[0m\n\u001b[1;32m     62\u001b[0m \u001b[0;34m\u001b[0m\u001b[0m\n\u001b[0;32m---> 63\u001b[0;31m         \u001b[0mactual_solve\u001b[0m \u001b[0;34m=\u001b[0m \u001b[0;34m(\u001b[0m\u001b[0mnp\u001b[0m\u001b[0;34m.\u001b[0m\u001b[0mlinalg\u001b[0m\u001b[0;34m.\u001b[0m\u001b[0mnorm\u001b[0m\u001b[0;34m(\u001b[0m\u001b[0mv_k_h_H\u001b[0m \u001b[0;34m@\u001b[0m \u001b[0mchannel_actual\u001b[0m\u001b[0;34m)\u001b[0m \u001b[0;34m**\u001b[0m \u001b[0;36m2\u001b[0m \u001b[0;34m)\u001b[0m \u001b[0;34m*\u001b[0m \u001b[0mtransmited_pwr\u001b[0m\u001b[0;34m\u001b[0m\u001b[0;34m\u001b[0m\u001b[0m\n\u001b[0m\u001b[1;32m     64\u001b[0m         \u001b[0mactual_solve\u001b[0m \u001b[0;34m=\u001b[0m \u001b[0mactual_solve\u001b[0m \u001b[0;34m*\u001b[0m \u001b[0mnp\u001b[0m\u001b[0;34m.\u001b[0m\u001b[0mlinalg\u001b[0m\u001b[0;34m.\u001b[0m\u001b[0mpinv\u001b[0m\u001b[0;34m(\u001b[0m\u001b[0mv_k_h_H\u001b[0m \u001b[0;34m@\u001b[0m \u001b[0mv_k\u001b[0m \u001b[0;34m@\u001b[0m \u001b[0mv_k_h\u001b[0m\u001b[0;34m)\u001b[0m\u001b[0;34m\u001b[0m\u001b[0;34m\u001b[0m\u001b[0m\n\u001b[1;32m     65\u001b[0m         \u001b[0mSINRs\u001b[0m \u001b[0;34m=\u001b[0m \u001b[0mnp\u001b[0m\u001b[0;34m.\u001b[0m\u001b[0mhstack\u001b[0m\u001b[0;34m(\u001b[0m\u001b[0;34m(\u001b[0m\u001b[0mSINRs\u001b[0m\u001b[0;34m,\u001b[0m \u001b[0mactual_solve\u001b[0m\u001b[0;34m.\u001b[0m\u001b[0mreshape\u001b[0m\u001b[0;34m(\u001b[0m\u001b[0;34m-\u001b[0m\u001b[0;36m1\u001b[0m\u001b[0;34m)\u001b[0m\u001b[0;34m)\u001b[0m\u001b[0;34m)\u001b[0m\u001b[0;34m\u001b[0m\u001b[0;34m\u001b[0m\u001b[0m\n",
      "\u001b[0;31mValueError\u001b[0m: matmul: Input operand 0 does not have enough dimensions (has 0, gufunc core with signature (n?,k),(k,m?)->(n?,m?) requires 1)"
     ]
    }
   ],
   "source": [
    "#   Main loop:\n",
    "for i in range(loop):\n",
    "\n",
    "    channelCellfree = np.array([])\n",
    "\n",
    "    for j in range(nUe):\n",
    "\n",
    "        distanceCellfree = np.absolute(APcellfree.reshape(-1) - UEloc[i][j])\n",
    "        channelEvaluate = np.sqrt(np.multiply\n",
    "                                  (np.exp(1j * 2 * np.pi * np.random.rand(n_antennas, 1)),\n",
    "                                   SNR(distanceCellfree)))\n",
    "        \n",
    "        channelEvaluate = np.diagonal(channelEvaluate)\n",
    "        channelCellfree = np.hstack((channelCellfree, channelEvaluate.T))\n",
    "\n",
    "    channelCellfree = channelCellfree.reshape(n_antennas, nUe)\n",
    "    SINR_cellfree = np.hstack((SINR_cellfree,SINR_estimator(channelCellfree)))"
   ]
  },
  {
   "cell_type": "markdown",
   "id": "e81338a1",
   "metadata": {},
   "source": [
    "And here, the plot of eCDF of SINR in this simulation."
   ]
  },
  {
   "cell_type": "code",
   "execution_count": 22,
   "id": "bc902a39",
   "metadata": {},
   "outputs": [
    {
     "data": {
      "text/plain": [
       "Text(0.5, 1.0, 'eCDF of Cell-free Massive MIMO model.')"
      ]
     },
     "execution_count": 22,
     "metadata": {},
     "output_type": "execute_result"
    },
    {
     "data": {
      "image/png": "[encoded data removed]",
      "text/plain": [
       "<Figure size 640x480 with 1 Axes>"
      ]
     },
     "metadata": {},
     "output_type": "display_data"
    }
   ],
   "source": [
    "\n",
    "plt.plot(pow2db(sorted(SINR_cellfree),(nUe*loop) ), np.linspace(0,1, (nUe*loop)), color='red', linestyle='dashed')\n",
    "plt.xlabel('SINR [dB]')\n",
    "plt.ylabel('CDF')\n",
    "plt.title('eCDF of Cell-free Massive MIMO model.')\n"
   ]
  }
 ],
 "metadata": {
  "kernelspec": {
   "display_name": "Python 3 (ipykernel)",
   "language": "python",
   "name": "python3"
  },
  "language_info": {
   "codemirror_mode": {
    "name": "ipython",
    "version": 3
   },
   "file_extension": ".py",
   "mimetype": "text/x-python",
   "name": "python",
   "nbconvert_exporter": "python",
   "pygments_lexer": "ipython3",
   "version": "3.9.13"
  }
 },
 "nbformat": 4,
 "nbformat_minor": 5
}
